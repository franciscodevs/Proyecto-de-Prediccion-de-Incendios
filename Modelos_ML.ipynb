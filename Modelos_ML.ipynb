{
  "cells": [
    {
      "cell_type": "markdown",
      "metadata": {
        "id": "view-in-github",
        "colab_type": "text"
      },
      "source": [
        "<a href=\"https://colab.research.google.com/github/franciscodevs/Proyecto-de-Prediccion-de-Incendios/blob/main/Modelos_ML.ipynb\" target=\"_parent\"><img src=\"https://colab.research.google.com/assets/colab-badge.svg\" alt=\"Open In Colab\"/></a>"
      ]
    },
    {
      "cell_type": "markdown",
      "source": [
        "Obtenemos la data previamente procesada"
      ],
      "metadata": {
        "id": "Lie79m316poz"
      },
      "id": "Lie79m316poz"
    },
    {
      "cell_type": "code",
      "execution_count": 66,
      "id": "77079a40",
      "metadata": {
        "id": "77079a40"
      },
      "outputs": [],
      "source": [
        "import io\n",
        "import requests\n",
        "import pandas as pd\n",
        "import numpy as np\n",
        "import matplotlib.pyplot as plt\n",
        "import seaborn as sns\n",
        "from matplotlib.ticker import FormatStrFormatter"
      ]
    },
    {
      "cell_type": "code",
      "execution_count": 67,
      "id": "4eecd863",
      "metadata": {
        "id": "4eecd863"
      },
      "outputs": [],
      "source": [
        "url=\"https://raw.githubusercontent.com/franciscodevs/Proyecto-de-Prediccion-de-Incendios/main/dataset_for_models.csv\"\n",
        "s=requests.get(url).content\n",
        "dataset=pd.read_csv(io.StringIO(s.decode(encoding = \"ISO-8859-1\")))"
      ]
    },
    {
      "cell_type": "code",
      "execution_count": 68,
      "id": "cb3f7b02",
      "metadata": {
        "colab": {
          "base_uri": "https://localhost:8080/",
          "height": 300
        },
        "id": "cb3f7b02",
        "outputId": "7198e388-0a80-4c83-f902-b9fd253ea23b"
      },
      "outputs": [
        {
          "output_type": "execute_result",
          "data": {
            "text/plain": [
              "   superficie     fecha        lat       lng idprovincia  causa  muertos  \\\n",
              "0         5.0  20010220  43.703581 -8.038777    A Coruña      1        0   \n",
              "1         1.5  20010225  43.186836 -8.685470    A Coruña      2        0   \n",
              "2         1.5  20010413  43.699889 -7.984566    A Coruña      1        0   \n",
              "3         1.1  20010413  42.758649 -8.917814    A Coruña      3        0   \n",
              "4         1.5  20010413  43.063218 -9.235604    A Coruña      2        0   \n",
              "\n",
              "   heridos  time_ctrl  time_ext  ...  PRECIPITACION  TMIN  TMAX  VELMEDIA  \\\n",
              "0        0       3.55      3.55  ...              0   7.0  15.6         2   \n",
              "1        0       2.05      2.05  ...              0   6.5  11.6         3   \n",
              "2        0       1.50      1.50  ...              0  10.4  17.4         3   \n",
              "3        0       3.10      3.10  ...              0  10.4  17.4         3   \n",
              "4        0       1.35      1.35  ...              0  10.4  17.4         3   \n",
              "\n",
              "   RACHA   SOL  Trimestre   Año  DIR_VIENTO  PRES_RANGE  \n",
              "0   16.9  10.2          1  2001           E         4.4  \n",
              "1   11.1  10.2          1  2001          NE         4.7  \n",
              "2   13.9  12.1          2  2001          NE         3.2  \n",
              "3   13.9  12.1          2  2001          NE         3.2  \n",
              "4   13.9  12.1          2  2001          NE         3.2  \n",
              "\n",
              "[5 rows x 25 columns]"
            ],
            "text/html": [
              "\n",
              "  <div id=\"df-71e0a16f-9810-43ee-9d1c-556dab25cc22\">\n",
              "    <div class=\"colab-df-container\">\n",
              "      <div>\n",
              "<style scoped>\n",
              "    .dataframe tbody tr th:only-of-type {\n",
              "        vertical-align: middle;\n",
              "    }\n",
              "\n",
              "    .dataframe tbody tr th {\n",
              "        vertical-align: top;\n",
              "    }\n",
              "\n",
              "    .dataframe thead th {\n",
              "        text-align: right;\n",
              "    }\n",
              "</style>\n",
              "<table border=\"1\" class=\"dataframe\">\n",
              "  <thead>\n",
              "    <tr style=\"text-align: right;\">\n",
              "      <th></th>\n",
              "      <th>superficie</th>\n",
              "      <th>fecha</th>\n",
              "      <th>lat</th>\n",
              "      <th>lng</th>\n",
              "      <th>idprovincia</th>\n",
              "      <th>causa</th>\n",
              "      <th>muertos</th>\n",
              "      <th>heridos</th>\n",
              "      <th>time_ctrl</th>\n",
              "      <th>time_ext</th>\n",
              "      <th>...</th>\n",
              "      <th>PRECIPITACION</th>\n",
              "      <th>TMIN</th>\n",
              "      <th>TMAX</th>\n",
              "      <th>VELMEDIA</th>\n",
              "      <th>RACHA</th>\n",
              "      <th>SOL</th>\n",
              "      <th>Trimestre</th>\n",
              "      <th>Año</th>\n",
              "      <th>DIR_VIENTO</th>\n",
              "      <th>PRES_RANGE</th>\n",
              "    </tr>\n",
              "  </thead>\n",
              "  <tbody>\n",
              "    <tr>\n",
              "      <th>0</th>\n",
              "      <td>5.0</td>\n",
              "      <td>20010220</td>\n",
              "      <td>43.703581</td>\n",
              "      <td>-8.038777</td>\n",
              "      <td>A Coruña</td>\n",
              "      <td>1</td>\n",
              "      <td>0</td>\n",
              "      <td>0</td>\n",
              "      <td>3.55</td>\n",
              "      <td>3.55</td>\n",
              "      <td>...</td>\n",
              "      <td>0</td>\n",
              "      <td>7.0</td>\n",
              "      <td>15.6</td>\n",
              "      <td>2</td>\n",
              "      <td>16.9</td>\n",
              "      <td>10.2</td>\n",
              "      <td>1</td>\n",
              "      <td>2001</td>\n",
              "      <td>E</td>\n",
              "      <td>4.4</td>\n",
              "    </tr>\n",
              "    <tr>\n",
              "      <th>1</th>\n",
              "      <td>1.5</td>\n",
              "      <td>20010225</td>\n",
              "      <td>43.186836</td>\n",
              "      <td>-8.685470</td>\n",
              "      <td>A Coruña</td>\n",
              "      <td>2</td>\n",
              "      <td>0</td>\n",
              "      <td>0</td>\n",
              "      <td>2.05</td>\n",
              "      <td>2.05</td>\n",
              "      <td>...</td>\n",
              "      <td>0</td>\n",
              "      <td>6.5</td>\n",
              "      <td>11.6</td>\n",
              "      <td>3</td>\n",
              "      <td>11.1</td>\n",
              "      <td>10.2</td>\n",
              "      <td>1</td>\n",
              "      <td>2001</td>\n",
              "      <td>NE</td>\n",
              "      <td>4.7</td>\n",
              "    </tr>\n",
              "    <tr>\n",
              "      <th>2</th>\n",
              "      <td>1.5</td>\n",
              "      <td>20010413</td>\n",
              "      <td>43.699889</td>\n",
              "      <td>-7.984566</td>\n",
              "      <td>A Coruña</td>\n",
              "      <td>1</td>\n",
              "      <td>0</td>\n",
              "      <td>0</td>\n",
              "      <td>1.50</td>\n",
              "      <td>1.50</td>\n",
              "      <td>...</td>\n",
              "      <td>0</td>\n",
              "      <td>10.4</td>\n",
              "      <td>17.4</td>\n",
              "      <td>3</td>\n",
              "      <td>13.9</td>\n",
              "      <td>12.1</td>\n",
              "      <td>2</td>\n",
              "      <td>2001</td>\n",
              "      <td>NE</td>\n",
              "      <td>3.2</td>\n",
              "    </tr>\n",
              "    <tr>\n",
              "      <th>3</th>\n",
              "      <td>1.1</td>\n",
              "      <td>20010413</td>\n",
              "      <td>42.758649</td>\n",
              "      <td>-8.917814</td>\n",
              "      <td>A Coruña</td>\n",
              "      <td>3</td>\n",
              "      <td>0</td>\n",
              "      <td>0</td>\n",
              "      <td>3.10</td>\n",
              "      <td>3.10</td>\n",
              "      <td>...</td>\n",
              "      <td>0</td>\n",
              "      <td>10.4</td>\n",
              "      <td>17.4</td>\n",
              "      <td>3</td>\n",
              "      <td>13.9</td>\n",
              "      <td>12.1</td>\n",
              "      <td>2</td>\n",
              "      <td>2001</td>\n",
              "      <td>NE</td>\n",
              "      <td>3.2</td>\n",
              "    </tr>\n",
              "    <tr>\n",
              "      <th>4</th>\n",
              "      <td>1.5</td>\n",
              "      <td>20010413</td>\n",
              "      <td>43.063218</td>\n",
              "      <td>-9.235604</td>\n",
              "      <td>A Coruña</td>\n",
              "      <td>2</td>\n",
              "      <td>0</td>\n",
              "      <td>0</td>\n",
              "      <td>1.35</td>\n",
              "      <td>1.35</td>\n",
              "      <td>...</td>\n",
              "      <td>0</td>\n",
              "      <td>10.4</td>\n",
              "      <td>17.4</td>\n",
              "      <td>3</td>\n",
              "      <td>13.9</td>\n",
              "      <td>12.1</td>\n",
              "      <td>2</td>\n",
              "      <td>2001</td>\n",
              "      <td>NE</td>\n",
              "      <td>3.2</td>\n",
              "    </tr>\n",
              "  </tbody>\n",
              "</table>\n",
              "<p>5 rows × 25 columns</p>\n",
              "</div>\n",
              "      <button class=\"colab-df-convert\" onclick=\"convertToInteractive('df-71e0a16f-9810-43ee-9d1c-556dab25cc22')\"\n",
              "              title=\"Convert this dataframe to an interactive table.\"\n",
              "              style=\"display:none;\">\n",
              "        \n",
              "  <svg xmlns=\"http://www.w3.org/2000/svg\" height=\"24px\"viewBox=\"0 0 24 24\"\n",
              "       width=\"24px\">\n",
              "    <path d=\"M0 0h24v24H0V0z\" fill=\"none\"/>\n",
              "    <path d=\"M18.56 5.44l.94 2.06.94-2.06 2.06-.94-2.06-.94-.94-2.06-.94 2.06-2.06.94zm-11 1L8.5 8.5l.94-2.06 2.06-.94-2.06-.94L8.5 2.5l-.94 2.06-2.06.94zm10 10l.94 2.06.94-2.06 2.06-.94-2.06-.94-.94-2.06-.94 2.06-2.06.94z\"/><path d=\"M17.41 7.96l-1.37-1.37c-.4-.4-.92-.59-1.43-.59-.52 0-1.04.2-1.43.59L10.3 9.45l-7.72 7.72c-.78.78-.78 2.05 0 2.83L4 21.41c.39.39.9.59 1.41.59.51 0 1.02-.2 1.41-.59l7.78-7.78 2.81-2.81c.8-.78.8-2.07 0-2.86zM5.41 20L4 18.59l7.72-7.72 1.47 1.35L5.41 20z\"/>\n",
              "  </svg>\n",
              "      </button>\n",
              "      \n",
              "  <style>\n",
              "    .colab-df-container {\n",
              "      display:flex;\n",
              "      flex-wrap:wrap;\n",
              "      gap: 12px;\n",
              "    }\n",
              "\n",
              "    .colab-df-convert {\n",
              "      background-color: #E8F0FE;\n",
              "      border: none;\n",
              "      border-radius: 50%;\n",
              "      cursor: pointer;\n",
              "      display: none;\n",
              "      fill: #1967D2;\n",
              "      height: 32px;\n",
              "      padding: 0 0 0 0;\n",
              "      width: 32px;\n",
              "    }\n",
              "\n",
              "    .colab-df-convert:hover {\n",
              "      background-color: #E2EBFA;\n",
              "      box-shadow: 0px 1px 2px rgba(60, 64, 67, 0.3), 0px 1px 3px 1px rgba(60, 64, 67, 0.15);\n",
              "      fill: #174EA6;\n",
              "    }\n",
              "\n",
              "    [theme=dark] .colab-df-convert {\n",
              "      background-color: #3B4455;\n",
              "      fill: #D2E3FC;\n",
              "    }\n",
              "\n",
              "    [theme=dark] .colab-df-convert:hover {\n",
              "      background-color: #434B5C;\n",
              "      box-shadow: 0px 1px 3px 1px rgba(0, 0, 0, 0.15);\n",
              "      filter: drop-shadow(0px 1px 2px rgba(0, 0, 0, 0.3));\n",
              "      fill: #FFFFFF;\n",
              "    }\n",
              "  </style>\n",
              "\n",
              "      <script>\n",
              "        const buttonEl =\n",
              "          document.querySelector('#df-71e0a16f-9810-43ee-9d1c-556dab25cc22 button.colab-df-convert');\n",
              "        buttonEl.style.display =\n",
              "          google.colab.kernel.accessAllowed ? 'block' : 'none';\n",
              "\n",
              "        async function convertToInteractive(key) {\n",
              "          const element = document.querySelector('#df-71e0a16f-9810-43ee-9d1c-556dab25cc22');\n",
              "          const dataTable =\n",
              "            await google.colab.kernel.invokeFunction('convertToInteractive',\n",
              "                                                     [key], {});\n",
              "          if (!dataTable) return;\n",
              "\n",
              "          const docLinkHtml = 'Like what you see? Visit the ' +\n",
              "            '<a target=\"_blank\" href=https://colab.research.google.com/notebooks/data_table.ipynb>data table notebook</a>'\n",
              "            + ' to learn more about interactive tables.';\n",
              "          element.innerHTML = '';\n",
              "          dataTable['output_type'] = 'display_data';\n",
              "          await google.colab.output.renderOutput(dataTable, element);\n",
              "          const docLink = document.createElement('div');\n",
              "          docLink.innerHTML = docLinkHtml;\n",
              "          element.appendChild(docLink);\n",
              "        }\n",
              "      </script>\n",
              "    </div>\n",
              "  </div>\n",
              "  "
            ]
          },
          "metadata": {},
          "execution_count": 68
        }
      ],
      "source": [
        "dataset.head()"
      ]
    },
    {
      "cell_type": "markdown",
      "id": "5583cc24",
      "metadata": {
        "id": "5583cc24"
      },
      "source": [
        "## MODELOS"
      ]
    },
    {
      "cell_type": "markdown",
      "source": [
        "### A continuación probaremos diferentes modelos de Machine Learning, testeando su precisión y ajuste sobre el dataset propuesto."
      ],
      "metadata": {
        "id": "Po8FHzX33NUV"
      },
      "id": "Po8FHzX33NUV"
    },
    {
      "cell_type": "markdown",
      "id": "73ec29ad",
      "metadata": {
        "id": "73ec29ad"
      },
      "source": [
        "### KNN "
      ]
    },
    {
      "cell_type": "code",
      "source": [
        "df = dataset.copy()"
      ],
      "metadata": {
        "id": "kEbojWYQ0xNt"
      },
      "id": "kEbojWYQ0xNt",
      "execution_count": 69,
      "outputs": []
    },
    {
      "cell_type": "code",
      "execution_count": 70,
      "id": "1e42fe2a",
      "metadata": {
        "id": "1e42fe2a"
      },
      "outputs": [],
      "source": [
        "#Dividimos en X e y \n",
        "X = df.drop('causa', axis=1)\n",
        "y = df['causa']"
      ]
    },
    {
      "cell_type": "code",
      "execution_count": 71,
      "id": "257ea8e6",
      "metadata": {
        "id": "257ea8e6"
      },
      "outputs": [],
      "source": [
        "#Importamos la libreria para separar en train y test\n",
        "from sklearn.model_selection import train_test_split \n",
        "\n",
        "#Me quedo con 30% para test y 70% para train\n",
        "X_train, X_test, y_train, y_test = train_test_split(X, y, test_size=0.30, random_state=42, stratify=y) "
      ]
    },
    {
      "cell_type": "markdown",
      "id": "53961f6f",
      "metadata": {
        "id": "53961f6f"
      },
      "source": [
        "Fit y transformacion del X_train"
      ]
    },
    {
      "cell_type": "code",
      "execution_count": 72,
      "id": "de9388b8",
      "metadata": {
        "id": "de9388b8"
      },
      "outputs": [],
      "source": [
        "#Comenzamos a realizar One hot encoding con las variables que no tienen un orden (como si lo tiene por ejemplo, los meses del año)\n",
        "from sklearn.preprocessing import OneHotEncoder\n",
        "ohe = OneHotEncoder(handle_unknown='ignore') #Si se agregaría otra variable seguiría funcionando\n",
        "temporal = ohe.fit_transform(X_train[['idprovincia','DIR_VIENTO']]).toarray()\n",
        "\n",
        "columns = []\n",
        "for x in ohe.categories_:\n",
        "    for y in x:\n",
        "        columns.append(y)\n",
        "_ohe = pd.DataFrame(temporal, columns=columns)\n",
        "X_train.reset_index(drop=True, inplace=True)\n",
        "_ohe.reset_index(drop=True, inplace=True)\n",
        "X_train= pd.concat([X_train, _ohe],axis=1)\n",
        "X_train.drop(['idprovincia','DIR_VIENTO'], axis=1, inplace=True)"
      ]
    },
    {
      "cell_type": "code",
      "execution_count": 73,
      "id": "b1c035eb",
      "metadata": {
        "id": "b1c035eb"
      },
      "outputs": [],
      "source": [
        "from sklearn.preprocessing import StandardScaler\n",
        "#Instanciamos standar scaler\n",
        "se=StandardScaler()\n",
        "\n",
        "# Escalamos los datos\n",
        "X_train=pd.DataFrame(se.fit_transform(X_train),columns=X_train.columns)"
      ]
    },
    {
      "cell_type": "code",
      "execution_count": 74,
      "id": "4feec403",
      "metadata": {
        "id": "4feec403"
      },
      "outputs": [],
      "source": [
        "#Instanciar PCA \n",
        "from sklearn.decomposition import PCA\n",
        "pca=PCA(random_state=42,n_components=0.90)\n",
        "\n",
        "#Transformamos el data frame\n",
        "X_train_decomp=pca.fit_transform(X_train)"
      ]
    },
    {
      "cell_type": "code",
      "source": [
        "#Mostramos cantidad de columnas (19, que son las componentes que explican el 90% de variabilidad)\n",
        "X_train_decomp.shape"
      ],
      "metadata": {
        "colab": {
          "base_uri": "https://localhost:8080/"
        },
        "id": "HeQ_ZmnZq0BG",
        "outputId": "1dfd5362-7a29-4653-e05f-4a48490d8832"
      },
      "id": "HeQ_ZmnZq0BG",
      "execution_count": 75,
      "outputs": [
        {
          "output_type": "execute_result",
          "data": {
            "text/plain": [
              "(9083, 19)"
            ]
          },
          "metadata": {},
          "execution_count": 75
        }
      ]
    },
    {
      "cell_type": "markdown",
      "source": [
        "Transformacion de los datos del X_test"
      ],
      "metadata": {
        "id": "CD7-jKSoteEl"
      },
      "id": "CD7-jKSoteEl"
    },
    {
      "cell_type": "code",
      "source": [
        "#Se realiza One Hot Encoder\n",
        "from sklearn.preprocessing import OneHotEncoder\n",
        "ohe = OneHotEncoder(handle_unknown='ignore') #Si se agregaría otra variable seguiría funcionando\n",
        "temporal = ohe.fit_transform(X_test[['idprovincia','DIR_VIENTO']]).toarray()\n",
        "\n",
        "columns = []\n",
        "for x in ohe.categories_:\n",
        "    for y in x:\n",
        "        columns.append(y)\n",
        "_ohe = pd.DataFrame(temporal, columns=columns)\n",
        "X_test.reset_index(drop=True, inplace=True)\n",
        "_ohe.reset_index(drop=True, inplace=True)\n",
        "X_test= pd.concat([X_test, _ohe],axis=1)\n",
        "X_test.drop(['idprovincia','DIR_VIENTO'], axis=1, inplace=True)"
      ],
      "metadata": {
        "id": "g-PkHa2fthM0"
      },
      "id": "g-PkHa2fthM0",
      "execution_count": 76,
      "outputs": []
    },
    {
      "cell_type": "code",
      "source": [
        "from sklearn.preprocessing import StandardScaler\n",
        "\n",
        "# Escalamos los datos\n",
        "X_test=pd.DataFrame(se.transform(X_test),columns=X_test.columns)\n",
        "\n",
        "#Transformamos el data frame\n",
        "X_test_decomp=pca.transform(X_test)\n",
        "\n",
        "#Mostramos cantidad de columnas (19, que son las componentes que explican el 90% de variabilidad)\n",
        "X_test_decomp.shape"
      ],
      "metadata": {
        "colab": {
          "base_uri": "https://localhost:8080/"
        },
        "id": "ddd29lZZtlEm",
        "outputId": "52e32b21-08dd-416e-cc19-91b232042404"
      },
      "id": "ddd29lZZtlEm",
      "execution_count": 77,
      "outputs": [
        {
          "output_type": "execute_result",
          "data": {
            "text/plain": [
              "(3893, 19)"
            ]
          },
          "metadata": {},
          "execution_count": 77
        }
      ]
    },
    {
      "cell_type": "markdown",
      "source": [
        "Fiteo y evaluacion"
      ],
      "metadata": {
        "id": "PAb94C2rvU6x"
      },
      "id": "PAb94C2rvU6x"
    },
    {
      "cell_type": "code",
      "source": [
        "#Importamos el modelo\n",
        "from sklearn.neighbors import KNeighborsClassifier"
      ],
      "metadata": {
        "id": "283_bm5JvWac"
      },
      "id": "283_bm5JvWac",
      "execution_count": 78,
      "outputs": []
    },
    {
      "cell_type": "code",
      "source": [
        "#Fiteamos\n",
        "knn = KNeighborsClassifier()\n",
        "knn.fit(X_train_decomp,y_train)"
      ],
      "metadata": {
        "colab": {
          "base_uri": "https://localhost:8080/"
        },
        "id": "1W2G198JvXzF",
        "outputId": "c841aae5-a1dc-4cd8-f6af-27ffe9876478"
      },
      "id": "1W2G198JvXzF",
      "execution_count": 79,
      "outputs": [
        {
          "output_type": "execute_result",
          "data": {
            "text/plain": [
              "KNeighborsClassifier()"
            ]
          },
          "metadata": {},
          "execution_count": 79
        }
      ]
    },
    {
      "cell_type": "code",
      "source": [
        "y_train_pred = knn.predict(X_train_decomp) #Prediccion en Train\n",
        "y_test_pred = knn.predict(X_test_decomp) #Prediccion en Test"
      ],
      "metadata": {
        "id": "gp1TF2W6vY8g"
      },
      "id": "gp1TF2W6vY8g",
      "execution_count": 80,
      "outputs": []
    },
    {
      "cell_type": "code",
      "source": [
        "from sklearn.metrics import f1_score\n",
        "\n",
        "#Calculo el f1 en Train\n",
        "train_f1 = f1_score(y_train, y_train_pred,average='weighted')\n",
        "\n",
        "#Calculo el f1 en Test\n",
        "test_f1 = f1_score(y_test, y_test_pred,average='weighted')\n",
        "\n",
        "print('f1 sobre el set de entrenamiento:', train_f1)\n",
        "print('f1 sobre el set de evaluación:',test_f1)\n",
        "\n",
        "knn_f1 = str(f\"F1 sobre el train de KNN es: {train_f1}\\nF1 sobre el test de KNN es: {test_f1}\")"
      ],
      "metadata": {
        "colab": {
          "base_uri": "https://localhost:8080/"
        },
        "id": "UaCay-_0vaJo",
        "outputId": "c35fbf61-02d2-4e6d-dede-a88782110901"
      },
      "id": "UaCay-_0vaJo",
      "execution_count": 81,
      "outputs": [
        {
          "output_type": "stream",
          "name": "stdout",
          "text": [
            "f1 sobre el set de entrenamiento: 0.8271174792543439\n",
            "f1 sobre el set de evaluación: 0.809660972878457\n"
          ]
        }
      ]
    },
    {
      "cell_type": "code",
      "source": [
        "#Creamos la matriz de confusión\n",
        "from sklearn.metrics import confusion_matrix\n",
        "matriz = confusion_matrix(y_test, y_test_pred)\n",
        "print('Matriz de Confusión:')\n",
        "print(matriz)"
      ],
      "metadata": {
        "colab": {
          "base_uri": "https://localhost:8080/"
        },
        "id": "oF4hNOgwvbr_",
        "outputId": "4ad6b9f3-196c-4a94-fa47-340856cf1772"
      },
      "id": "oF4hNOgwvbr_",
      "execution_count": 82,
      "outputs": [
        {
          "output_type": "stream",
          "name": "stdout",
          "text": [
            "Matriz de Confusión:\n",
            "[[   3  156    1    0    0]\n",
            " [  24 3345   16    3    0]\n",
            " [   1  247    1    0    0]\n",
            " [   0   26    0    5    0]\n",
            " [   1   63    1    0    0]]\n"
          ]
        }
      ]
    },
    {
      "cell_type": "markdown",
      "source": [
        "### RANDOM FOREST"
      ],
      "metadata": {
        "id": "7mZCfNXewTRL"
      },
      "id": "7mZCfNXewTRL"
    },
    {
      "cell_type": "code",
      "source": [
        "from sklearn.model_selection import train_test_split\n",
        "from sklearn.ensemble import RandomForestClassifier\n",
        "from sklearn.tree import DecisionTreeClassifier"
      ],
      "metadata": {
        "id": "yAQnk03twVRK"
      },
      "id": "yAQnk03twVRK",
      "execution_count": 83,
      "outputs": []
    },
    {
      "cell_type": "markdown",
      "source": [
        "Creacion del arbol de decision y Random Forest"
      ],
      "metadata": {
        "id": "h5uPpdKPx3C-"
      },
      "id": "h5uPpdKPx3C-"
    },
    {
      "cell_type": "code",
      "source": [
        "df = dataset.copy()"
      ],
      "metadata": {
        "id": "B9T1nv8e1rok"
      },
      "id": "B9T1nv8e1rok",
      "execution_count": 84,
      "outputs": []
    },
    {
      "cell_type": "code",
      "source": [
        "#Separamos en X e y\n",
        "#Dropeamos de x aquellas variables que no numericas y que, entiendo, no sería que el algoritmo le asigne un orden\n",
        "X = df.drop([\"causa\",\"idprovincia\",\"DIR_VIENTO\"], axis=1)\n",
        "y = df[\"causa\"]"
      ],
      "metadata": {
        "id": "MSt0VAWUx798"
      },
      "id": "MSt0VAWUx798",
      "execution_count": 85,
      "outputs": []
    },
    {
      "cell_type": "code",
      "source": [
        "#Separamos en train y test!\n",
        "(X_train, X_test,\n",
        "y_train, y_test) = train_test_split(X,\n",
        "                                    y,\n",
        "                                    stratify=y,\n",
        "                                    test_size=0.30,\n",
        "                                    random_state=11)"
      ],
      "metadata": {
        "id": "cLQTvXcGx-tb"
      },
      "id": "cLQTvXcGx-tb",
      "execution_count": 86,
      "outputs": []
    },
    {
      "cell_type": "code",
      "source": [
        "#Creamos un arbol de decisión sencillo y lo fiteamos\n",
        "tree = DecisionTreeClassifier(random_state=11)\n",
        "tree.fit(X_train, y_train)"
      ],
      "metadata": {
        "colab": {
          "base_uri": "https://localhost:8080/"
        },
        "id": "8PxZwtV_yAj7",
        "outputId": "b0a0db89-a733-439a-f2cb-36a997225802"
      },
      "id": "8PxZwtV_yAj7",
      "execution_count": 87,
      "outputs": [
        {
          "output_type": "execute_result",
          "data": {
            "text/plain": [
              "DecisionTreeClassifier(random_state=11)"
            ]
          },
          "metadata": {},
          "execution_count": 87
        }
      ]
    },
    {
      "cell_type": "code",
      "source": [
        "y_train_pred = tree.predict(X_train) #Prediccion en train"
      ],
      "metadata": {
        "id": "uRrncqFcBrym"
      },
      "id": "uRrncqFcBrym",
      "execution_count": 88,
      "outputs": []
    },
    {
      "cell_type": "code",
      "source": [
        "y_test_pred = tree.predict(X_test) #Prediccion en Test"
      ],
      "metadata": {
        "id": "DuaJSxB3yBmh"
      },
      "id": "DuaJSxB3yBmh",
      "execution_count": 89,
      "outputs": []
    },
    {
      "cell_type": "code",
      "source": [
        "from sklearn.metrics import f1_score\n",
        "\n",
        "#Calculo el f1 en Test\n",
        "train_f1 = f1_score(y_train, y_train_pred, average='weighted')\n",
        "\n",
        "test_f1 = f1_score(y_test, y_test_pred,average='weighted')\n",
        "\n",
        "print('f1 sobre el set de train:',train_f1)\n",
        "print('f1 sobre el set de evaluación:',test_f1)\n",
        "\n",
        "decisionTree_f1 = str(f\"F1 sobre el train de Decision Tree es: {train_f1}\\nF1 sobre el test de Decision Tree es: {test_f1}\")"
      ],
      "metadata": {
        "colab": {
          "base_uri": "https://localhost:8080/"
        },
        "id": "kuoVw0BVyCq1",
        "outputId": "3e957650-4b86-4c87-8345-4e06ac0f7211"
      },
      "id": "kuoVw0BVyCq1",
      "execution_count": 90,
      "outputs": [
        {
          "output_type": "stream",
          "name": "stdout",
          "text": [
            "f1 sobre el set de train: 1.0\n",
            "f1 sobre el set de evaluación: 0.7759502390387939\n"
          ]
        }
      ]
    },
    {
      "cell_type": "code",
      "source": [
        "#Creamos un random forest!\n",
        "model = RandomForestClassifier(random_state=11, n_estimators=200,\n",
        "                               class_weight=\"balanced\", max_features=\"log2\")\n",
        "model.fit(X_train, y_train)"
      ],
      "metadata": {
        "colab": {
          "base_uri": "https://localhost:8080/"
        },
        "id": "P0xKibYvyDx-",
        "outputId": "a6cd12a4-d60e-40ed-922b-37945c5d20f8"
      },
      "id": "P0xKibYvyDx-",
      "execution_count": 91,
      "outputs": [
        {
          "output_type": "execute_result",
          "data": {
            "text/plain": [
              "RandomForestClassifier(class_weight='balanced', max_features='log2',\n",
              "                       n_estimators=200, random_state=11)"
            ]
          },
          "metadata": {},
          "execution_count": 91
        }
      ]
    },
    {
      "cell_type": "code",
      "source": [
        "y_train_pred = model.predict(X_train) #Prediccion en train"
      ],
      "metadata": {
        "id": "nHmWCERPCLnN"
      },
      "id": "nHmWCERPCLnN",
      "execution_count": 92,
      "outputs": []
    },
    {
      "cell_type": "code",
      "source": [
        "y_test_pred = model.predict(X_test) #Prediccion en Test"
      ],
      "metadata": {
        "id": "GOOeA-8dyE3y"
      },
      "id": "GOOeA-8dyE3y",
      "execution_count": 93,
      "outputs": []
    },
    {
      "cell_type": "code",
      "source": [
        "from sklearn.metrics import f1_score\n",
        "\n",
        "#Calculo el f1 en Test\n",
        "train_f1 = f1_score(y_train, y_train_pred, average='weighted')\n",
        "\n",
        "test_f1 = f1_score(y_test, y_test_pred,average='weighted')\n",
        "\n",
        "print('f1 sobre el set de train:',train_f1)\n",
        "print('f1 sobre el set de evaluación:',test_f1)\n",
        "\n",
        "randomForest_f1 = str(f\"F1 sobre el train de Random Forest es: {train_f1}\\nF1 sobre el test de Random Forest es: {test_f1}\")"
      ],
      "metadata": {
        "colab": {
          "base_uri": "https://localhost:8080/"
        },
        "id": "7y2w79FkyEQo",
        "outputId": "8b1d7f68-7bbb-4adf-ec0a-11a3becb6957"
      },
      "id": "7y2w79FkyEQo",
      "execution_count": 94,
      "outputs": [
        {
          "output_type": "stream",
          "name": "stdout",
          "text": [
            "f1 sobre el set de train: 1.0\n",
            "f1 sobre el set de evaluación: 0.812731691512971\n"
          ]
        }
      ]
    },
    {
      "cell_type": "markdown",
      "source": [
        "### CATBOOST"
      ],
      "metadata": {
        "id": "tpXlFlzYzA7m"
      },
      "id": "tpXlFlzYzA7m"
    },
    {
      "cell_type": "code",
      "source": [
        "!pip install catboost"
      ],
      "metadata": {
        "colab": {
          "base_uri": "https://localhost:8080/"
        },
        "id": "aQKEWxVnzNMg",
        "outputId": "ebafdda3-f111-47f2-80e6-039d9a739d01"
      },
      "id": "aQKEWxVnzNMg",
      "execution_count": 95,
      "outputs": [
        {
          "output_type": "stream",
          "name": "stdout",
          "text": [
            "Collecting catboost\n",
            "  Downloading catboost-1.0.4-cp37-none-manylinux1_x86_64.whl (76.1 MB)\n",
            "\u001b[K     |████████████████████████████████| 76.1 MB 59 kB/s \n",
            "\u001b[?25hRequirement already satisfied: scipy in /usr/local/lib/python3.7/dist-packages (from catboost) (1.4.1)\n",
            "Requirement already satisfied: plotly in /usr/local/lib/python3.7/dist-packages (from catboost) (5.5.0)\n",
            "Requirement already satisfied: pandas>=0.24.0 in /usr/local/lib/python3.7/dist-packages (from catboost) (1.3.5)\n",
            "Requirement already satisfied: matplotlib in /usr/local/lib/python3.7/dist-packages (from catboost) (3.2.2)\n",
            "Requirement already satisfied: six in /usr/local/lib/python3.7/dist-packages (from catboost) (1.15.0)\n",
            "Requirement already satisfied: numpy>=1.16.0 in /usr/local/lib/python3.7/dist-packages (from catboost) (1.21.5)\n",
            "Requirement already satisfied: graphviz in /usr/local/lib/python3.7/dist-packages (from catboost) (0.10.1)\n",
            "Requirement already satisfied: pytz>=2017.3 in /usr/local/lib/python3.7/dist-packages (from pandas>=0.24.0->catboost) (2018.9)\n",
            "Requirement already satisfied: python-dateutil>=2.7.3 in /usr/local/lib/python3.7/dist-packages (from pandas>=0.24.0->catboost) (2.8.2)\n",
            "Requirement already satisfied: kiwisolver>=1.0.1 in /usr/local/lib/python3.7/dist-packages (from matplotlib->catboost) (1.4.0)\n",
            "Requirement already satisfied: cycler>=0.10 in /usr/local/lib/python3.7/dist-packages (from matplotlib->catboost) (0.11.0)\n",
            "Requirement already satisfied: pyparsing!=2.0.4,!=2.1.2,!=2.1.6,>=2.0.1 in /usr/local/lib/python3.7/dist-packages (from matplotlib->catboost) (3.0.7)\n",
            "Requirement already satisfied: typing-extensions in /usr/local/lib/python3.7/dist-packages (from kiwisolver>=1.0.1->matplotlib->catboost) (3.10.0.2)\n",
            "Requirement already satisfied: tenacity>=6.2.0 in /usr/local/lib/python3.7/dist-packages (from plotly->catboost) (8.0.1)\n",
            "Installing collected packages: catboost\n",
            "Successfully installed catboost-1.0.4\n"
          ]
        }
      ]
    },
    {
      "cell_type": "code",
      "source": [
        "from catboost import CatBoostClassifier     "
      ],
      "metadata": {
        "id": "0kzLVy27zR-G"
      },
      "id": "0kzLVy27zR-G",
      "execution_count": 96,
      "outputs": []
    },
    {
      "cell_type": "code",
      "source": [
        "df = dataset.copy()"
      ],
      "metadata": {
        "id": "gwYk2YcDzS2L"
      },
      "id": "gwYk2YcDzS2L",
      "execution_count": 97,
      "outputs": []
    },
    {
      "cell_type": "code",
      "source": [
        "#Variables categóricas para catboost\n",
        "cat_features = ['idprovincia', 'DIR_VIENTO']"
      ],
      "metadata": {
        "id": "g_iqPIFtzWri"
      },
      "id": "g_iqPIFtzWri",
      "execution_count": 98,
      "outputs": []
    },
    {
      "cell_type": "code",
      "source": [
        "#Instanciamos el catboost para intentar balancear el dataset\n",
        "cs = CatBoostClassifier(random_state=42, eval_metric='MultiClass', class_weights={1:5,2:1,3:5,4:5,5:5}, iterations=200)"
      ],
      "metadata": {
        "id": "SjPM38MezXrQ"
      },
      "id": "SjPM38MezXrQ",
      "execution_count": 99,
      "outputs": []
    },
    {
      "cell_type": "code",
      "source": [
        "#Dividimos en X e y \n",
        "X = df.drop(('causa'), axis=1)\n",
        "y = df[['causa']]"
      ],
      "metadata": {
        "id": "-0VR9cOtzYBl"
      },
      "id": "-0VR9cOtzYBl",
      "execution_count": 100,
      "outputs": []
    },
    {
      "cell_type": "code",
      "source": [
        "#Importamos la libreria para separar en train y test\n",
        "from sklearn.model_selection import train_test_split "
      ],
      "metadata": {
        "id": "xZq4h4v0zZ6x"
      },
      "id": "xZq4h4v0zZ6x",
      "execution_count": 101,
      "outputs": []
    },
    {
      "cell_type": "code",
      "source": [
        "#Me quedo con 30% para test y 70% para train\n",
        "X_train, X_test, y_train, y_test = train_test_split(X, y, test_size=0.30, random_state=42, stratify=y) "
      ],
      "metadata": {
        "id": "U4C4yGOMza22"
      },
      "id": "U4C4yGOMza22",
      "execution_count": 102,
      "outputs": []
    },
    {
      "cell_type": "code",
      "source": [
        "#Entrenamos el modelo\n",
        "cs.fit(X_train,y_train, cat_features = ['idprovincia', 'DIR_VIENTO'])"
      ],
      "metadata": {
        "colab": {
          "base_uri": "https://localhost:8080/"
        },
        "id": "9_Y3xDsDzbwh",
        "outputId": "d130f8a2-381c-4771-ec48-35dbc419c037"
      },
      "id": "9_Y3xDsDzbwh",
      "execution_count": 103,
      "outputs": [
        {
          "output_type": "stream",
          "name": "stdout",
          "text": [
            "Learning rate set to 0.345003\n",
            "0:\tlearn: 1.3109425\ttotal: 108ms\tremaining: 21.5s\n",
            "1:\tlearn: 1.2118288\ttotal: 165ms\tremaining: 16.4s\n",
            "2:\tlearn: 1.1506549\ttotal: 230ms\tremaining: 15.1s\n",
            "3:\tlearn: 1.1090990\ttotal: 293ms\tremaining: 14.4s\n",
            "4:\tlearn: 1.0752160\ttotal: 365ms\tremaining: 14.2s\n",
            "5:\tlearn: 1.0572939\ttotal: 422ms\tremaining: 13.6s\n",
            "6:\tlearn: 1.0285763\ttotal: 487ms\tremaining: 13.4s\n",
            "7:\tlearn: 1.0137742\ttotal: 544ms\tremaining: 13.1s\n",
            "8:\tlearn: 0.9947274\ttotal: 603ms\tremaining: 12.8s\n",
            "9:\tlearn: 0.9870330\ttotal: 636ms\tremaining: 12.1s\n",
            "10:\tlearn: 0.9784960\ttotal: 730ms\tremaining: 12.5s\n",
            "11:\tlearn: 0.9655101\ttotal: 836ms\tremaining: 13.1s\n",
            "12:\tlearn: 0.9532126\ttotal: 965ms\tremaining: 13.9s\n",
            "13:\tlearn: 0.9456803\ttotal: 1.07s\tremaining: 14.2s\n",
            "14:\tlearn: 0.9355236\ttotal: 1.2s\tremaining: 14.8s\n",
            "15:\tlearn: 0.9254901\ttotal: 1.33s\tremaining: 15.2s\n",
            "16:\tlearn: 0.9202044\ttotal: 1.44s\tremaining: 15.5s\n",
            "17:\tlearn: 0.9135933\ttotal: 1.55s\tremaining: 15.6s\n",
            "18:\tlearn: 0.9090510\ttotal: 1.63s\tremaining: 15.6s\n",
            "19:\tlearn: 0.9034570\ttotal: 1.74s\tremaining: 15.7s\n",
            "20:\tlearn: 0.8958269\ttotal: 1.86s\tremaining: 15.9s\n",
            "21:\tlearn: 0.8919792\ttotal: 1.98s\tremaining: 16s\n",
            "22:\tlearn: 0.8883201\ttotal: 2.08s\tremaining: 16s\n",
            "23:\tlearn: 0.8803002\ttotal: 2.2s\tremaining: 16.1s\n",
            "24:\tlearn: 0.8792131\ttotal: 2.25s\tremaining: 15.7s\n",
            "25:\tlearn: 0.8726240\ttotal: 2.36s\tremaining: 15.8s\n",
            "26:\tlearn: 0.8623043\ttotal: 2.49s\tremaining: 16s\n",
            "27:\tlearn: 0.8547444\ttotal: 2.61s\tremaining: 16.1s\n",
            "28:\tlearn: 0.8441185\ttotal: 2.73s\tremaining: 16.1s\n",
            "29:\tlearn: 0.8370333\ttotal: 2.85s\tremaining: 16.1s\n",
            "30:\tlearn: 0.8324098\ttotal: 2.96s\tremaining: 16.2s\n",
            "31:\tlearn: 0.8264519\ttotal: 3.08s\tremaining: 16.2s\n",
            "32:\tlearn: 0.8222152\ttotal: 3.36s\tremaining: 17s\n",
            "33:\tlearn: 0.8175273\ttotal: 3.6s\tremaining: 17.6s\n",
            "34:\tlearn: 0.8114922\ttotal: 3.79s\tremaining: 17.9s\n",
            "35:\tlearn: 0.8052776\ttotal: 4.11s\tremaining: 18.7s\n",
            "36:\tlearn: 0.8006625\ttotal: 4.38s\tremaining: 19.3s\n",
            "37:\tlearn: 0.7923574\ttotal: 4.72s\tremaining: 20.1s\n",
            "38:\tlearn: 0.7844755\ttotal: 5.02s\tremaining: 20.7s\n",
            "39:\tlearn: 0.7748489\ttotal: 5.45s\tremaining: 21.8s\n",
            "40:\tlearn: 0.7671849\ttotal: 5.69s\tremaining: 22.1s\n",
            "41:\tlearn: 0.7630828\ttotal: 5.97s\tremaining: 22.4s\n",
            "42:\tlearn: 0.7597011\ttotal: 6.17s\tremaining: 22.5s\n",
            "43:\tlearn: 0.7539145\ttotal: 6.35s\tremaining: 22.5s\n",
            "44:\tlearn: 0.7494223\ttotal: 6.64s\tremaining: 22.9s\n",
            "45:\tlearn: 0.7403274\ttotal: 6.89s\tremaining: 23.1s\n",
            "46:\tlearn: 0.7344601\ttotal: 7.15s\tremaining: 23.3s\n",
            "47:\tlearn: 0.7272325\ttotal: 7.31s\tremaining: 23.1s\n",
            "48:\tlearn: 0.7236456\ttotal: 7.54s\tremaining: 23.2s\n",
            "49:\tlearn: 0.7196857\ttotal: 7.81s\tremaining: 23.4s\n",
            "50:\tlearn: 0.7131008\ttotal: 8.15s\tremaining: 23.8s\n",
            "51:\tlearn: 0.7055861\ttotal: 8.39s\tremaining: 23.9s\n",
            "52:\tlearn: 0.7015625\ttotal: 8.58s\tremaining: 23.8s\n",
            "53:\tlearn: 0.6964473\ttotal: 8.87s\tremaining: 24s\n",
            "54:\tlearn: 0.6892045\ttotal: 9.09s\tremaining: 24s\n",
            "55:\tlearn: 0.6812701\ttotal: 9.25s\tremaining: 23.8s\n",
            "56:\tlearn: 0.6744472\ttotal: 9.53s\tremaining: 23.9s\n",
            "57:\tlearn: 0.6667165\ttotal: 9.77s\tremaining: 23.9s\n",
            "58:\tlearn: 0.6606366\ttotal: 9.93s\tremaining: 23.7s\n",
            "59:\tlearn: 0.6568121\ttotal: 10.1s\tremaining: 23.7s\n",
            "60:\tlearn: 0.6523553\ttotal: 10.4s\tremaining: 23.7s\n",
            "61:\tlearn: 0.6476188\ttotal: 10.6s\tremaining: 23.6s\n",
            "62:\tlearn: 0.6396781\ttotal: 10.8s\tremaining: 23.5s\n",
            "63:\tlearn: 0.6378802\ttotal: 11.2s\tremaining: 23.8s\n",
            "64:\tlearn: 0.6335269\ttotal: 11.4s\tremaining: 23.6s\n",
            "65:\tlearn: 0.6293483\ttotal: 11.6s\tremaining: 23.5s\n",
            "66:\tlearn: 0.6249014\ttotal: 11.8s\tremaining: 23.5s\n",
            "67:\tlearn: 0.6198848\ttotal: 12s\tremaining: 23.3s\n",
            "68:\tlearn: 0.6152577\ttotal: 12.3s\tremaining: 23.3s\n",
            "69:\tlearn: 0.6111524\ttotal: 12.6s\tremaining: 23.4s\n",
            "70:\tlearn: 0.6042725\ttotal: 12.7s\tremaining: 23.1s\n",
            "71:\tlearn: 0.6010904\ttotal: 12.9s\tremaining: 22.9s\n",
            "72:\tlearn: 0.5976839\ttotal: 13s\tremaining: 22.6s\n",
            "73:\tlearn: 0.5932501\ttotal: 13.2s\tremaining: 22.4s\n",
            "74:\tlearn: 0.5891795\ttotal: 13.3s\tremaining: 22.2s\n",
            "75:\tlearn: 0.5836774\ttotal: 13.5s\tremaining: 22s\n",
            "76:\tlearn: 0.5777842\ttotal: 13.6s\tremaining: 21.7s\n",
            "77:\tlearn: 0.5728801\ttotal: 13.7s\tremaining: 21.5s\n",
            "78:\tlearn: 0.5692299\ttotal: 13.9s\tremaining: 21.3s\n",
            "79:\tlearn: 0.5651498\ttotal: 14.1s\tremaining: 21.1s\n",
            "80:\tlearn: 0.5629680\ttotal: 14.2s\tremaining: 20.9s\n",
            "81:\tlearn: 0.5595491\ttotal: 14.4s\tremaining: 20.7s\n",
            "82:\tlearn: 0.5560387\ttotal: 14.5s\tremaining: 20.4s\n",
            "83:\tlearn: 0.5510527\ttotal: 14.6s\tremaining: 20.2s\n",
            "84:\tlearn: 0.5463831\ttotal: 14.7s\tremaining: 19.9s\n",
            "85:\tlearn: 0.5414419\ttotal: 14.9s\tremaining: 19.7s\n",
            "86:\tlearn: 0.5360342\ttotal: 15s\tremaining: 19.5s\n",
            "87:\tlearn: 0.5303616\ttotal: 15.1s\tremaining: 19.2s\n",
            "88:\tlearn: 0.5273903\ttotal: 15.2s\tremaining: 19s\n",
            "89:\tlearn: 0.5237668\ttotal: 15.4s\tremaining: 18.8s\n",
            "90:\tlearn: 0.5210603\ttotal: 15.5s\tremaining: 18.6s\n",
            "91:\tlearn: 0.5186162\ttotal: 15.7s\tremaining: 18.4s\n",
            "92:\tlearn: 0.5132708\ttotal: 15.8s\tremaining: 18.2s\n",
            "93:\tlearn: 0.5089247\ttotal: 15.9s\tremaining: 18s\n",
            "94:\tlearn: 0.5037518\ttotal: 16.1s\tremaining: 17.7s\n",
            "95:\tlearn: 0.5009520\ttotal: 16.2s\tremaining: 17.5s\n",
            "96:\tlearn: 0.4983601\ttotal: 16.3s\tremaining: 17.3s\n",
            "97:\tlearn: 0.4962353\ttotal: 16.4s\tremaining: 17.1s\n",
            "98:\tlearn: 0.4932055\ttotal: 16.6s\tremaining: 16.9s\n",
            "99:\tlearn: 0.4906729\ttotal: 16.8s\tremaining: 16.8s\n",
            "100:\tlearn: 0.4867949\ttotal: 17s\tremaining: 16.6s\n",
            "101:\tlearn: 0.4831626\ttotal: 17.2s\tremaining: 16.5s\n",
            "102:\tlearn: 0.4805198\ttotal: 17.4s\tremaining: 16.4s\n",
            "103:\tlearn: 0.4771950\ttotal: 17.6s\tremaining: 16.3s\n",
            "104:\tlearn: 0.4736164\ttotal: 17.8s\tremaining: 16.1s\n",
            "105:\tlearn: 0.4714703\ttotal: 18s\tremaining: 16s\n",
            "106:\tlearn: 0.4692823\ttotal: 18.2s\tremaining: 15.8s\n",
            "107:\tlearn: 0.4663251\ttotal: 18.4s\tremaining: 15.7s\n",
            "108:\tlearn: 0.4637045\ttotal: 18.7s\tremaining: 15.6s\n",
            "109:\tlearn: 0.4624582\ttotal: 18.9s\tremaining: 15.4s\n",
            "110:\tlearn: 0.4597300\ttotal: 19s\tremaining: 15.3s\n",
            "111:\tlearn: 0.4566519\ttotal: 19.2s\tremaining: 15.1s\n",
            "112:\tlearn: 0.4540263\ttotal: 19.4s\tremaining: 14.9s\n",
            "113:\tlearn: 0.4522948\ttotal: 19.5s\tremaining: 14.7s\n",
            "114:\tlearn: 0.4492550\ttotal: 19.7s\tremaining: 14.6s\n",
            "115:\tlearn: 0.4449836\ttotal: 19.9s\tremaining: 14.4s\n",
            "116:\tlearn: 0.4424177\ttotal: 20.1s\tremaining: 14.2s\n",
            "117:\tlearn: 0.4398558\ttotal: 20.3s\tremaining: 14.1s\n",
            "118:\tlearn: 0.4379966\ttotal: 20.4s\tremaining: 13.9s\n",
            "119:\tlearn: 0.4356134\ttotal: 20.6s\tremaining: 13.8s\n",
            "120:\tlearn: 0.4329312\ttotal: 20.8s\tremaining: 13.6s\n",
            "121:\tlearn: 0.4315049\ttotal: 21s\tremaining: 13.4s\n",
            "122:\tlearn: 0.4291146\ttotal: 21.2s\tremaining: 13.2s\n",
            "123:\tlearn: 0.4272699\ttotal: 21.3s\tremaining: 13.1s\n",
            "124:\tlearn: 0.4250588\ttotal: 21.5s\tremaining: 12.9s\n",
            "125:\tlearn: 0.4220619\ttotal: 21.6s\tremaining: 12.7s\n",
            "126:\tlearn: 0.4199183\ttotal: 21.8s\tremaining: 12.6s\n",
            "127:\tlearn: 0.4184741\ttotal: 22s\tremaining: 12.4s\n",
            "128:\tlearn: 0.4174055\ttotal: 22.3s\tremaining: 12.2s\n",
            "129:\tlearn: 0.4149210\ttotal: 22.5s\tremaining: 12.1s\n",
            "130:\tlearn: 0.4138520\ttotal: 22.7s\tremaining: 11.9s\n",
            "131:\tlearn: 0.4113627\ttotal: 22.9s\tremaining: 11.8s\n",
            "132:\tlearn: 0.4076476\ttotal: 23.1s\tremaining: 11.6s\n",
            "133:\tlearn: 0.4044212\ttotal: 23.3s\tremaining: 11.5s\n",
            "134:\tlearn: 0.4023841\ttotal: 23.4s\tremaining: 11.3s\n",
            "135:\tlearn: 0.3992763\ttotal: 23.6s\tremaining: 11.1s\n",
            "136:\tlearn: 0.3963902\ttotal: 23.7s\tremaining: 10.9s\n",
            "137:\tlearn: 0.3935950\ttotal: 23.8s\tremaining: 10.7s\n",
            "138:\tlearn: 0.3913589\ttotal: 24s\tremaining: 10.5s\n",
            "139:\tlearn: 0.3894861\ttotal: 24.3s\tremaining: 10.4s\n",
            "140:\tlearn: 0.3870680\ttotal: 24.4s\tremaining: 10.2s\n",
            "141:\tlearn: 0.3853091\ttotal: 24.7s\tremaining: 10.1s\n",
            "142:\tlearn: 0.3831191\ttotal: 24.8s\tremaining: 9.89s\n",
            "143:\tlearn: 0.3805329\ttotal: 25s\tremaining: 9.71s\n",
            "144:\tlearn: 0.3778423\ttotal: 25.1s\tremaining: 9.54s\n",
            "145:\tlearn: 0.3747265\ttotal: 25.3s\tremaining: 9.36s\n",
            "146:\tlearn: 0.3730695\ttotal: 25.5s\tremaining: 9.2s\n",
            "147:\tlearn: 0.3712262\ttotal: 25.6s\tremaining: 9.01s\n",
            "148:\tlearn: 0.3700114\ttotal: 25.9s\tremaining: 8.85s\n",
            "149:\tlearn: 0.3686715\ttotal: 26s\tremaining: 8.68s\n",
            "150:\tlearn: 0.3675553\ttotal: 26.2s\tremaining: 8.51s\n",
            "151:\tlearn: 0.3662314\ttotal: 26.5s\tremaining: 8.37s\n",
            "152:\tlearn: 0.3644206\ttotal: 26.7s\tremaining: 8.2s\n",
            "153:\tlearn: 0.3610446\ttotal: 26.9s\tremaining: 8.03s\n",
            "154:\tlearn: 0.3595878\ttotal: 27.1s\tremaining: 7.85s\n",
            "155:\tlearn: 0.3574181\ttotal: 27.2s\tremaining: 7.68s\n",
            "156:\tlearn: 0.3559211\ttotal: 27.4s\tremaining: 7.51s\n",
            "157:\tlearn: 0.3547929\ttotal: 27.6s\tremaining: 7.34s\n",
            "158:\tlearn: 0.3523254\ttotal: 27.8s\tremaining: 7.16s\n",
            "159:\tlearn: 0.3502896\ttotal: 27.9s\tremaining: 6.99s\n",
            "160:\tlearn: 0.3482825\ttotal: 28.1s\tremaining: 6.81s\n",
            "161:\tlearn: 0.3478200\ttotal: 28.3s\tremaining: 6.63s\n",
            "162:\tlearn: 0.3458261\ttotal: 28.4s\tremaining: 6.46s\n",
            "163:\tlearn: 0.3428186\ttotal: 28.6s\tremaining: 6.28s\n",
            "164:\tlearn: 0.3409374\ttotal: 28.8s\tremaining: 6.1s\n",
            "165:\tlearn: 0.3391294\ttotal: 28.9s\tremaining: 5.92s\n",
            "166:\tlearn: 0.3362654\ttotal: 29.1s\tremaining: 5.75s\n",
            "167:\tlearn: 0.3355331\ttotal: 29.3s\tremaining: 5.58s\n",
            "168:\tlearn: 0.3334383\ttotal: 29.4s\tremaining: 5.4s\n",
            "169:\tlearn: 0.3311369\ttotal: 29.6s\tremaining: 5.22s\n",
            "170:\tlearn: 0.3289573\ttotal: 29.8s\tremaining: 5.05s\n",
            "171:\tlearn: 0.3281282\ttotal: 30s\tremaining: 4.88s\n",
            "172:\tlearn: 0.3268203\ttotal: 30.2s\tremaining: 4.71s\n",
            "173:\tlearn: 0.3241177\ttotal: 30.3s\tremaining: 4.53s\n",
            "174:\tlearn: 0.3222168\ttotal: 30.5s\tremaining: 4.35s\n",
            "175:\tlearn: 0.3202427\ttotal: 30.6s\tremaining: 4.17s\n",
            "176:\tlearn: 0.3187286\ttotal: 30.8s\tremaining: 4s\n",
            "177:\tlearn: 0.3169117\ttotal: 30.9s\tremaining: 3.82s\n",
            "178:\tlearn: 0.3158300\ttotal: 31.2s\tremaining: 3.65s\n",
            "179:\tlearn: 0.3139335\ttotal: 31.3s\tremaining: 3.48s\n",
            "180:\tlearn: 0.3131477\ttotal: 31.5s\tremaining: 3.3s\n",
            "181:\tlearn: 0.3114338\ttotal: 31.7s\tremaining: 3.13s\n",
            "182:\tlearn: 0.3104088\ttotal: 31.8s\tremaining: 2.95s\n",
            "183:\tlearn: 0.3090253\ttotal: 32s\tremaining: 2.78s\n",
            "184:\tlearn: 0.3072173\ttotal: 32.2s\tremaining: 2.61s\n",
            "185:\tlearn: 0.3049148\ttotal: 32.4s\tremaining: 2.44s\n",
            "186:\tlearn: 0.3027302\ttotal: 32.6s\tremaining: 2.26s\n",
            "187:\tlearn: 0.3014299\ttotal: 32.8s\tremaining: 2.09s\n",
            "188:\tlearn: 0.2997430\ttotal: 32.9s\tremaining: 1.91s\n",
            "189:\tlearn: 0.2979558\ttotal: 33s\tremaining: 1.74s\n",
            "190:\tlearn: 0.2965877\ttotal: 33.2s\tremaining: 1.56s\n",
            "191:\tlearn: 0.2948832\ttotal: 33.3s\tremaining: 1.39s\n",
            "192:\tlearn: 0.2938636\ttotal: 33.5s\tremaining: 1.21s\n",
            "193:\tlearn: 0.2924717\ttotal: 33.6s\tremaining: 1.04s\n",
            "194:\tlearn: 0.2910051\ttotal: 33.7s\tremaining: 865ms\n",
            "195:\tlearn: 0.2899806\ttotal: 33.9s\tremaining: 692ms\n",
            "196:\tlearn: 0.2883194\ttotal: 34.1s\tremaining: 519ms\n",
            "197:\tlearn: 0.2871978\ttotal: 34.2s\tremaining: 346ms\n",
            "198:\tlearn: 0.2858271\ttotal: 34.4s\tremaining: 173ms\n",
            "199:\tlearn: 0.2836590\ttotal: 34.6s\tremaining: 0us\n"
          ]
        },
        {
          "output_type": "execute_result",
          "data": {
            "text/plain": [
              "<catboost.core.CatBoostClassifier at 0x7f3713a18390>"
            ]
          },
          "metadata": {},
          "execution_count": 103
        }
      ]
    },
    {
      "cell_type": "code",
      "source": [
        "y_train_pred = cs.predict(X_train) #Prediccion en Train\n",
        "y_test_pred = cs.predict(X_test) #Prediccion en Test"
      ],
      "metadata": {
        "id": "lKxFvU6HzcQt"
      },
      "id": "lKxFvU6HzcQt",
      "execution_count": 104,
      "outputs": []
    },
    {
      "cell_type": "code",
      "source": [
        "from sklearn.metrics import f1_score\n",
        "\n",
        "#Calculo el accuracy en Train\n",
        "train_f1 = f1_score(y_train, y_train_pred,average='weighted')\n",
        "\n",
        "#Calculo el accuracy en Test\n",
        "test_f1 = f1_score(y_test, y_test_pred,average='weighted')\n",
        "\n",
        "print('f1 sobre el set de entrenamiento:', train_f1)\n",
        "print('f1 sobre el set de evaluación:',test_f1)\n",
        "\n",
        "catBoost_f1 = str(f\"F1 sobre el train de Catboost es: {train_f1}\\nF1 sobre el test de Catboost es: {test_f1}\")"
      ],
      "metadata": {
        "colab": {
          "base_uri": "https://localhost:8080/"
        },
        "id": "Al01au9izdsS",
        "outputId": "e1c99dd6-a78f-4473-b587-4db5459e0f7d"
      },
      "id": "Al01au9izdsS",
      "execution_count": 105,
      "outputs": [
        {
          "output_type": "stream",
          "name": "stdout",
          "text": [
            "f1 sobre el set de entrenamiento: 0.9714339224644294\n",
            "f1 sobre el set de evaluación: 0.8124741194984982\n"
          ]
        }
      ]
    },
    {
      "cell_type": "code",
      "source": [
        "#Creamos la matriz de confusión\n",
        "from sklearn.metrics import confusion_matrix\n",
        "matriz = confusion_matrix(y_test, y_test_pred)\n",
        "print('Matriz de Confusión:')\n",
        "print(matriz)"
      ],
      "metadata": {
        "colab": {
          "base_uri": "https://localhost:8080/"
        },
        "id": "xOqyEgFbzeP2",
        "outputId": "746417e2-ce62-40e6-b0b8-d2cbddfb651f"
      },
      "id": "xOqyEgFbzeP2",
      "execution_count": 106,
      "outputs": [
        {
          "output_type": "stream",
          "name": "stdout",
          "text": [
            "Matriz de Confusión:\n",
            "[[  21  125   13    1    0]\n",
            " [  71 3182  112    8   15]\n",
            " [  18  199   30    0    2]\n",
            " [   0   21    0    9    1]\n",
            " [   0   63    2    0    0]]\n"
          ]
        }
      ]
    },
    {
      "cell_type": "markdown",
      "source": [
        "### Support Vector Machine (Polinomial)"
      ],
      "metadata": {
        "id": "K-uDc7IX9k-H"
      },
      "id": "K-uDc7IX9k-H"
    },
    {
      "cell_type": "code",
      "source": [
        "df = dataset.copy()"
      ],
      "metadata": {
        "id": "4wB3VZGv9qPt"
      },
      "id": "4wB3VZGv9qPt",
      "execution_count": 107,
      "outputs": []
    },
    {
      "cell_type": "code",
      "source": [
        "#Importamos la libreria para separar en train y test\n",
        "from sklearn.model_selection import train_test_split \n",
        "\n",
        "#Separamos en X e y\n",
        "#Dropeamos de x aquellas variables que no numericas y que, entiendo, no sería que el algoritmo le asigne un orden\n",
        "X = df.drop([\"causa\",\"idprovincia\",\"DIR_VIENTO\"], axis=1)\n",
        "y = df[\"causa\"].to_numpy()"
      ],
      "metadata": {
        "id": "9n5m2LtP9tFY"
      },
      "id": "9n5m2LtP9tFY",
      "execution_count": 108,
      "outputs": []
    },
    {
      "cell_type": "code",
      "source": [
        "# Training and testing set\n",
        "X_train, X_test, y_train, y_test = train_test_split(X, y, test_size=0.3, random_state=1)\n",
        "print(f\"Train Data: {X_train.shape}, {y_train.shape}\")\n",
        "print(f\"Test Data: {X_test.shape}, {y_test.shape}\")"
      ],
      "metadata": {
        "colab": {
          "base_uri": "https://localhost:8080/"
        },
        "id": "ioomTcvK-XdL",
        "outputId": "880e992e-6439-4c36-d29c-1f41242ecd03"
      },
      "id": "ioomTcvK-XdL",
      "execution_count": 109,
      "outputs": [
        {
          "output_type": "stream",
          "name": "stdout",
          "text": [
            "Train Data: (9083, 22), (9083,)\n",
            "Test Data: (3893, 22), (3893,)\n"
          ]
        }
      ]
    },
    {
      "cell_type": "code",
      "source": [
        "from sklearn import svm\n",
        "\n",
        "#Entrenamos el SVM en un Kernel Polinomial debido a sus multiples clases en el target\n",
        "modelo = svm.SVC(kernel='poly', degree=3, C=1)\n",
        "modelo.fit(X_train, y_train)\n",
        "\n",
        "y_train_pred = modelo.predict(X_train)\n",
        "y_test_pred = modelo.predict(X_test)\n"
      ],
      "metadata": {
        "id": "HAGDa4ng9zy6"
      },
      "id": "HAGDa4ng9zy6",
      "execution_count": 110,
      "outputs": []
    },
    {
      "cell_type": "code",
      "source": [
        "from sklearn.metrics import f1_score\n",
        "\n",
        "#Calculo el f1 en Train\n",
        "train_f1 = f1_score(y_train, y_train_pred,average='weighted')\n",
        "\n",
        "#Calculo el f1 en Test\n",
        "test_f1 = f1_score(y_test, y_test_pred,average='weighted')\n",
        "\n",
        "print('f1 sobre el set de entrenamiento:', train_f1)\n",
        "print('f1 sobre el set de evaluación:',test_f1)\n",
        "\n",
        "SVM_f1 = str(f\"F1 sobre el train de Random Forest es: {train_f1}\\nF1 sobre el test de Random Forest es: {test_f1}\")"
      ],
      "metadata": {
        "colab": {
          "base_uri": "https://localhost:8080/"
        },
        "id": "o7Rfh4yq-OhX",
        "outputId": "1624b72c-45cc-4138-9bb1-1474863eb213"
      },
      "id": "o7Rfh4yq-OhX",
      "execution_count": 111,
      "outputs": [
        {
          "output_type": "stream",
          "name": "stdout",
          "text": [
            "f1 sobre el set de entrenamiento: 0.8102719041846572\n",
            "f1 sobre el set de evaluación: 0.8091849190040197\n"
          ]
        }
      ]
    },
    {
      "cell_type": "code",
      "source": [
        "#Creamos la matriz de confusión\n",
        "from sklearn.metrics import confusion_matrix\n",
        "matriz = confusion_matrix(y_test, y_test_pred)\n",
        "print('Matriz de Confusión:')\n",
        "print(matriz)"
      ],
      "metadata": {
        "colab": {
          "base_uri": "https://localhost:8080/"
        },
        "id": "dvDH-zcyChgE",
        "outputId": "895dd23d-3a65-46c8-eacb-108c6fc7fe9e"
      },
      "id": "dvDH-zcyChgE",
      "execution_count": 112,
      "outputs": [
        {
          "output_type": "stream",
          "name": "stdout",
          "text": [
            "Matriz de Confusión:\n",
            "[[   0  165    0    0    0]\n",
            " [   0 3386    0    0    0]\n",
            " [   0  250    0    0    0]\n",
            " [   0   33    0    0    0]\n",
            " [   0   59    0    0    0]]\n"
          ]
        }
      ]
    },
    {
      "cell_type": "code",
      "source": [
        ""
      ],
      "metadata": {
        "id": "-Ifk2NZoVikn"
      },
      "id": "-Ifk2NZoVikn",
      "execution_count": null,
      "outputs": []
    },
    {
      "cell_type": "markdown",
      "source": [
        "## Métricas"
      ],
      "metadata": {
        "id": "1H-CRjEy8BmB"
      },
      "id": "1H-CRjEy8BmB"
    },
    {
      "cell_type": "markdown",
      "source": [
        "Notamos cierto desbalance en los datos por lo que nos inclinamos por no utilizar la métrica de accuracy. Además, centrándonos ya en el problema específico planteado (lograr una mejor distribución de personal y medios para reducir perdidas y costos), notamos que no sería tan grave un falso positivo o un falso negativo, aunque si necesitamos que el modelo aporte valor y sirva para tomar mejores decisiones.\n",
        "De ésta manera, nos inclinamos por usar la matriz de confusión, y en particular la métrica “F1 score” que es la media armónica de precisión y exhaustividad. En otras palabras, creemos que es una métrica \n",
        "acertada para evaluar nuestro problema específico; cuánto más se acerque la métrica a 1, mejor será nuestro modelo."
      ],
      "metadata": {
        "id": "KfKMGweX9A0p"
      },
      "id": "KfKMGweX9A0p"
    },
    {
      "cell_type": "code",
      "source": [
        "# Resultado de KNN\n",
        "print(knn_f1)"
      ],
      "metadata": {
        "colab": {
          "base_uri": "https://localhost:8080/"
        },
        "id": "LtVINUrl9F3E",
        "outputId": "880ac753-3479-454e-fe7f-f97fca1fcf82"
      },
      "id": "LtVINUrl9F3E",
      "execution_count": 119,
      "outputs": [
        {
          "output_type": "stream",
          "name": "stdout",
          "text": [
            "F1 sobre el train de KNN es: 0.8271174792543439\n",
            "F1 sobre el test de KNN es: 0.809660972878457\n"
          ]
        }
      ]
    },
    {
      "cell_type": "code",
      "source": [
        "# Resultado de Arboles de decisión\n",
        "print(decisionTree_f1)"
      ],
      "metadata": {
        "colab": {
          "base_uri": "https://localhost:8080/"
        },
        "id": "Ckv_wm3NE-Y8",
        "outputId": "7e792630-dda8-47ac-f6b2-46de6b9b9cb4"
      },
      "id": "Ckv_wm3NE-Y8",
      "execution_count": 120,
      "outputs": [
        {
          "output_type": "stream",
          "name": "stdout",
          "text": [
            "F1 sobre el train de Decision Tree es: 1.0\n",
            "F1 sobre el test de Decision Tree es: 0.7759502390387939\n"
          ]
        }
      ]
    },
    {
      "cell_type": "code",
      "source": [
        "# Resultado de Random Forest\n",
        "print(randomForest_f1)"
      ],
      "metadata": {
        "colab": {
          "base_uri": "https://localhost:8080/"
        },
        "id": "fAewyFZjFEdm",
        "outputId": "47e8e2bb-c5ee-48b2-e242-1184a1f96856"
      },
      "id": "fAewyFZjFEdm",
      "execution_count": 121,
      "outputs": [
        {
          "output_type": "stream",
          "name": "stdout",
          "text": [
            "F1 sobre el train de Random Forest es: 1.0\n",
            "F1 sobre el test de Random Forest es: 0.812731691512971\n"
          ]
        }
      ]
    },
    {
      "cell_type": "code",
      "source": [
        "# Resultado de Catboost\n",
        "print(catBoost_f1)"
      ],
      "metadata": {
        "colab": {
          "base_uri": "https://localhost:8080/"
        },
        "id": "nUSFsdjmFFoM",
        "outputId": "ecdd26e4-102e-4a7b-a5b9-4512b400ff34"
      },
      "id": "nUSFsdjmFFoM",
      "execution_count": 122,
      "outputs": [
        {
          "output_type": "stream",
          "name": "stdout",
          "text": [
            "F1 sobre el train de Catboost es: 0.9714339224644294\n",
            "F1 sobre el test de Catboost es: 0.8124741194984982\n"
          ]
        }
      ]
    },
    {
      "cell_type": "code",
      "source": [
        "# Resultado de Support Vector Machine\n",
        "print(SVM_f1)"
      ],
      "metadata": {
        "colab": {
          "base_uri": "https://localhost:8080/"
        },
        "id": "6cEHX2MUFIko",
        "outputId": "17975be6-273f-44e6-dc4f-f7aa5f542fcc"
      },
      "id": "6cEHX2MUFIko",
      "execution_count": 123,
      "outputs": [
        {
          "output_type": "stream",
          "name": "stdout",
          "text": [
            "F1 sobre el train de Random Forest es: 0.8102719041846572\n",
            "F1 sobre el test de Random Forest es: 0.8091849190040197\n"
          ]
        }
      ]
    }
  ],
  "metadata": {
    "kernelspec": {
      "display_name": "Python 3",
      "language": "python",
      "name": "python3"
    },
    "language_info": {
      "codemirror_mode": {
        "name": "ipython",
        "version": 3
      },
      "file_extension": ".py",
      "mimetype": "text/x-python",
      "name": "python",
      "nbconvert_exporter": "python",
      "pygments_lexer": "ipython3",
      "version": "3.8.8"
    },
    "colab": {
      "name": "Modelos ML.ipynb",
      "provenance": [],
      "collapsed_sections": [],
      "include_colab_link": true
    }
  },
  "nbformat": 4,
  "nbformat_minor": 5
}